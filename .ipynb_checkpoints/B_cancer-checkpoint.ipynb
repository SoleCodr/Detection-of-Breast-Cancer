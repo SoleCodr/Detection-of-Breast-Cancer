{
 "cells": [
  {
   "cell_type": "markdown",
   "metadata": {},
   "source": [
    "## Import Required Libraries"
   ]
  },
  {
   "cell_type": "code",
   "execution_count": 1,
   "metadata": {},
   "outputs": [],
   "source": [
    "import pandas as pd\n",
    "import matplotlib.pyplot as plt\n",
    "import numpy as np\n",
    "import seaborn as sns\n",
    "from sklearn.model_selection import train_test_split\n",
    "from sklearn.svm import SVC\n",
    "from sklearn.metrics import accuracy_score, confusion_matrix, classification_report\n",
    "import warnings\n",
    "\n",
    "#removing warnings\n",
    "warnings.filterwarnings('ignore')"
   ]
  },
  {
   "cell_type": "markdown",
   "metadata": {},
   "source": [
    "## Load and Read Data to a Dataframe"
   ]
  },
  {
   "cell_type": "code",
   "execution_count": 2,
   "metadata": {},
   "outputs": [
    {
     "data": {
      "text/html": [
       "<div>\n",
       "<style scoped>\n",
       "    .dataframe tbody tr th:only-of-type {\n",
       "        vertical-align: middle;\n",
       "    }\n",
       "\n",
       "    .dataframe tbody tr th {\n",
       "        vertical-align: top;\n",
       "    }\n",
       "\n",
       "    .dataframe thead th {\n",
       "        text-align: right;\n",
       "    }\n",
       "</style>\n",
       "<table border=\"1\" class=\"dataframe\">\n",
       "  <thead>\n",
       "    <tr style=\"text-align: right;\">\n",
       "      <th></th>\n",
       "      <th>ID</th>\n",
       "      <th>tumor_thickness</th>\n",
       "      <th>regularity_of_cell_size</th>\n",
       "      <th>regularity_of_cell_shape</th>\n",
       "      <th>cell_stickiness</th>\n",
       "      <th>non_cytoplasm_nuclei</th>\n",
       "      <th>nucleus_texture</th>\n",
       "      <th>small_structures_in_nucleoli</th>\n",
       "      <th>cell_proliferation</th>\n",
       "      <th>cell_uniformity</th>\n",
       "      <th>tumor_type</th>\n",
       "      <th>SVM_Classifier</th>\n",
       "    </tr>\n",
       "  </thead>\n",
       "  <tbody>\n",
       "    <tr>\n",
       "      <td>0</td>\n",
       "      <td>1000025</td>\n",
       "      <td>5</td>\n",
       "      <td>1</td>\n",
       "      <td>1</td>\n",
       "      <td>1</td>\n",
       "      <td>2</td>\n",
       "      <td>1</td>\n",
       "      <td>3</td>\n",
       "      <td>1</td>\n",
       "      <td>1</td>\n",
       "      <td>0</td>\n",
       "      <td>0</td>\n",
       "    </tr>\n",
       "    <tr>\n",
       "      <td>1</td>\n",
       "      <td>1002945</td>\n",
       "      <td>5</td>\n",
       "      <td>4</td>\n",
       "      <td>4</td>\n",
       "      <td>5</td>\n",
       "      <td>7</td>\n",
       "      <td>10</td>\n",
       "      <td>3</td>\n",
       "      <td>2</td>\n",
       "      <td>1</td>\n",
       "      <td>0</td>\n",
       "      <td>1</td>\n",
       "    </tr>\n",
       "    <tr>\n",
       "      <td>2</td>\n",
       "      <td>1015425</td>\n",
       "      <td>3</td>\n",
       "      <td>1</td>\n",
       "      <td>1</td>\n",
       "      <td>1</td>\n",
       "      <td>2</td>\n",
       "      <td>2</td>\n",
       "      <td>3</td>\n",
       "      <td>1</td>\n",
       "      <td>1</td>\n",
       "      <td>0</td>\n",
       "      <td>0</td>\n",
       "    </tr>\n",
       "    <tr>\n",
       "      <td>3</td>\n",
       "      <td>1016277</td>\n",
       "      <td>6</td>\n",
       "      <td>8</td>\n",
       "      <td>8</td>\n",
       "      <td>1</td>\n",
       "      <td>3</td>\n",
       "      <td>4</td>\n",
       "      <td>3</td>\n",
       "      <td>7</td>\n",
       "      <td>1</td>\n",
       "      <td>0</td>\n",
       "      <td>1</td>\n",
       "    </tr>\n",
       "    <tr>\n",
       "      <td>4</td>\n",
       "      <td>1017023</td>\n",
       "      <td>4</td>\n",
       "      <td>1</td>\n",
       "      <td>1</td>\n",
       "      <td>3</td>\n",
       "      <td>2</td>\n",
       "      <td>1</td>\n",
       "      <td>3</td>\n",
       "      <td>1</td>\n",
       "      <td>1</td>\n",
       "      <td>0</td>\n",
       "      <td>0</td>\n",
       "    </tr>\n",
       "  </tbody>\n",
       "</table>\n",
       "</div>"
      ],
      "text/plain": [
       "        ID  tumor_thickness  regularity_of_cell_size  \\\n",
       "0  1000025                5                        1   \n",
       "1  1002945                5                        4   \n",
       "2  1015425                3                        1   \n",
       "3  1016277                6                        8   \n",
       "4  1017023                4                        1   \n",
       "\n",
       "   regularity_of_cell_shape  cell_stickiness  non_cytoplasm_nuclei  \\\n",
       "0                         1                1                     2   \n",
       "1                         4                5                     7   \n",
       "2                         1                1                     2   \n",
       "3                         8                1                     3   \n",
       "4                         1                3                     2   \n",
       "\n",
       "   nucleus_texture  small_structures_in_nucleoli  cell_proliferation  \\\n",
       "0                1                             3                   1   \n",
       "1               10                             3                   2   \n",
       "2                2                             3                   1   \n",
       "3                4                             3                   7   \n",
       "4                1                             3                   1   \n",
       "\n",
       "   cell_uniformity  tumor_type  SVM_Classifier  \n",
       "0                1           0               0  \n",
       "1                1           0               1  \n",
       "2                1           0               0  \n",
       "3                1           0               1  \n",
       "4                1           0               0  "
      ]
     },
     "execution_count": 2,
     "metadata": {},
     "output_type": "execute_result"
    }
   ],
   "source": [
    "df= pd.read_csv(\"aa.txt\", sep = \";\")\n",
    "df.head()"
   ]
  },
  {
   "cell_type": "markdown",
   "metadata": {},
   "source": [
    "### Droping ID column as it is of no use in detecting Breast Cancer"
   ]
  },
  {
   "cell_type": "code",
   "execution_count": 3,
   "metadata": {},
   "outputs": [
    {
     "data": {
      "text/html": [
       "<div>\n",
       "<style scoped>\n",
       "    .dataframe tbody tr th:only-of-type {\n",
       "        vertical-align: middle;\n",
       "    }\n",
       "\n",
       "    .dataframe tbody tr th {\n",
       "        vertical-align: top;\n",
       "    }\n",
       "\n",
       "    .dataframe thead th {\n",
       "        text-align: right;\n",
       "    }\n",
       "</style>\n",
       "<table border=\"1\" class=\"dataframe\">\n",
       "  <thead>\n",
       "    <tr style=\"text-align: right;\">\n",
       "      <th></th>\n",
       "      <th>tumor_thickness</th>\n",
       "      <th>regularity_of_cell_size</th>\n",
       "      <th>regularity_of_cell_shape</th>\n",
       "      <th>cell_stickiness</th>\n",
       "      <th>non_cytoplasm_nuclei</th>\n",
       "      <th>nucleus_texture</th>\n",
       "      <th>small_structures_in_nucleoli</th>\n",
       "      <th>cell_proliferation</th>\n",
       "      <th>cell_uniformity</th>\n",
       "      <th>tumor_type</th>\n",
       "      <th>SVM_Classifier</th>\n",
       "    </tr>\n",
       "  </thead>\n",
       "  <tbody>\n",
       "    <tr>\n",
       "      <td>count</td>\n",
       "      <td>645.000000</td>\n",
       "      <td>645.000000</td>\n",
       "      <td>645.000000</td>\n",
       "      <td>645.000000</td>\n",
       "      <td>645.000000</td>\n",
       "      <td>645.000000</td>\n",
       "      <td>645.000000</td>\n",
       "      <td>645.000000</td>\n",
       "      <td>645.000000</td>\n",
       "      <td>645.000000</td>\n",
       "      <td>645.000000</td>\n",
       "    </tr>\n",
       "    <tr>\n",
       "      <td>mean</td>\n",
       "      <td>4.471318</td>\n",
       "      <td>3.184496</td>\n",
       "      <td>3.255814</td>\n",
       "      <td>2.893023</td>\n",
       "      <td>3.275969</td>\n",
       "      <td>3.654264</td>\n",
       "      <td>3.497674</td>\n",
       "      <td>2.955039</td>\n",
       "      <td>1.613953</td>\n",
       "      <td>0.359690</td>\n",
       "      <td>0.365891</td>\n",
       "    </tr>\n",
       "    <tr>\n",
       "      <td>std</td>\n",
       "      <td>2.858115</td>\n",
       "      <td>3.058195</td>\n",
       "      <td>2.975258</td>\n",
       "      <td>2.918036</td>\n",
       "      <td>2.247455</td>\n",
       "      <td>3.650045</td>\n",
       "      <td>2.459374</td>\n",
       "      <td>3.120682</td>\n",
       "      <td>1.744056</td>\n",
       "      <td>0.480282</td>\n",
       "      <td>0.482053</td>\n",
       "    </tr>\n",
       "    <tr>\n",
       "      <td>min</td>\n",
       "      <td>1.000000</td>\n",
       "      <td>1.000000</td>\n",
       "      <td>1.000000</td>\n",
       "      <td>1.000000</td>\n",
       "      <td>1.000000</td>\n",
       "      <td>1.000000</td>\n",
       "      <td>1.000000</td>\n",
       "      <td>1.000000</td>\n",
       "      <td>1.000000</td>\n",
       "      <td>0.000000</td>\n",
       "      <td>0.000000</td>\n",
       "    </tr>\n",
       "    <tr>\n",
       "      <td>25%</td>\n",
       "      <td>2.000000</td>\n",
       "      <td>1.000000</td>\n",
       "      <td>1.000000</td>\n",
       "      <td>1.000000</td>\n",
       "      <td>2.000000</td>\n",
       "      <td>1.000000</td>\n",
       "      <td>2.000000</td>\n",
       "      <td>1.000000</td>\n",
       "      <td>1.000000</td>\n",
       "      <td>0.000000</td>\n",
       "      <td>0.000000</td>\n",
       "    </tr>\n",
       "    <tr>\n",
       "      <td>50%</td>\n",
       "      <td>4.000000</td>\n",
       "      <td>1.000000</td>\n",
       "      <td>2.000000</td>\n",
       "      <td>1.000000</td>\n",
       "      <td>2.000000</td>\n",
       "      <td>1.000000</td>\n",
       "      <td>3.000000</td>\n",
       "      <td>1.000000</td>\n",
       "      <td>1.000000</td>\n",
       "      <td>0.000000</td>\n",
       "      <td>0.000000</td>\n",
       "    </tr>\n",
       "    <tr>\n",
       "      <td>75%</td>\n",
       "      <td>6.000000</td>\n",
       "      <td>5.000000</td>\n",
       "      <td>5.000000</td>\n",
       "      <td>4.000000</td>\n",
       "      <td>4.000000</td>\n",
       "      <td>7.000000</td>\n",
       "      <td>5.000000</td>\n",
       "      <td>4.000000</td>\n",
       "      <td>1.000000</td>\n",
       "      <td>1.000000</td>\n",
       "      <td>1.000000</td>\n",
       "    </tr>\n",
       "    <tr>\n",
       "      <td>max</td>\n",
       "      <td>10.000000</td>\n",
       "      <td>10.000000</td>\n",
       "      <td>10.000000</td>\n",
       "      <td>10.000000</td>\n",
       "      <td>10.000000</td>\n",
       "      <td>10.000000</td>\n",
       "      <td>10.000000</td>\n",
       "      <td>10.000000</td>\n",
       "      <td>10.000000</td>\n",
       "      <td>1.000000</td>\n",
       "      <td>1.000000</td>\n",
       "    </tr>\n",
       "  </tbody>\n",
       "</table>\n",
       "</div>"
      ],
      "text/plain": [
       "       tumor_thickness  regularity_of_cell_size  regularity_of_cell_shape  \\\n",
       "count       645.000000               645.000000                645.000000   \n",
       "mean          4.471318                 3.184496                  3.255814   \n",
       "std           2.858115                 3.058195                  2.975258   \n",
       "min           1.000000                 1.000000                  1.000000   \n",
       "25%           2.000000                 1.000000                  1.000000   \n",
       "50%           4.000000                 1.000000                  2.000000   \n",
       "75%           6.000000                 5.000000                  5.000000   \n",
       "max          10.000000                10.000000                 10.000000   \n",
       "\n",
       "       cell_stickiness  non_cytoplasm_nuclei  nucleus_texture  \\\n",
       "count       645.000000            645.000000       645.000000   \n",
       "mean          2.893023              3.275969         3.654264   \n",
       "std           2.918036              2.247455         3.650045   \n",
       "min           1.000000              1.000000         1.000000   \n",
       "25%           1.000000              2.000000         1.000000   \n",
       "50%           1.000000              2.000000         1.000000   \n",
       "75%           4.000000              4.000000         7.000000   \n",
       "max          10.000000             10.000000        10.000000   \n",
       "\n",
       "       small_structures_in_nucleoli  cell_proliferation  cell_uniformity  \\\n",
       "count                    645.000000          645.000000       645.000000   \n",
       "mean                       3.497674            2.955039         1.613953   \n",
       "std                        2.459374            3.120682         1.744056   \n",
       "min                        1.000000            1.000000         1.000000   \n",
       "25%                        2.000000            1.000000         1.000000   \n",
       "50%                        3.000000            1.000000         1.000000   \n",
       "75%                        5.000000            4.000000         1.000000   \n",
       "max                       10.000000           10.000000        10.000000   \n",
       "\n",
       "       tumor_type  SVM_Classifier  \n",
       "count  645.000000      645.000000  \n",
       "mean     0.359690        0.365891  \n",
       "std      0.480282        0.482053  \n",
       "min      0.000000        0.000000  \n",
       "25%      0.000000        0.000000  \n",
       "50%      0.000000        0.000000  \n",
       "75%      1.000000        1.000000  \n",
       "max      1.000000        1.000000  "
      ]
     },
     "execution_count": 3,
     "metadata": {},
     "output_type": "execute_result"
    }
   ],
   "source": [
    "df = df.drop('ID',1)\n",
    "df.describe()"
   ]
  },
  {
   "cell_type": "markdown",
   "metadata": {},
   "source": [
    "#### Let's check if there is any null value present in the dataframe"
   ]
  },
  {
   "cell_type": "code",
   "execution_count": 4,
   "metadata": {},
   "outputs": [
    {
     "data": {
      "text/plain": [
       "tumor_thickness                 False\n",
       "regularity_of_cell_size         False\n",
       "regularity_of_cell_shape        False\n",
       "cell_stickiness                 False\n",
       "non_cytoplasm_nuclei            False\n",
       "nucleus_texture                 False\n",
       "small_structures_in_nucleoli    False\n",
       "cell_proliferation              False\n",
       "cell_uniformity                 False\n",
       "tumor_type                      False\n",
       "SVM_Classifier                  False\n",
       "dtype: bool"
      ]
     },
     "execution_count": 4,
     "metadata": {},
     "output_type": "execute_result"
    }
   ],
   "source": [
    "df.isnull().any()"
   ]
  },
  {
   "cell_type": "markdown",
   "metadata": {},
   "source": [
    "#### There is no null value present in the dataframe.\n",
    "<hr>\n",
    "\n",
    "#### Let's drop if there is any duplicate values present in dataframe."
   ]
  },
  {
   "cell_type": "code",
   "execution_count": 5,
   "metadata": {},
   "outputs": [
    {
     "name": "stdout",
     "output_type": "stream",
     "text": [
      "<class 'pandas.core.frame.DataFrame'>\n",
      "Int64Index: 443 entries, 0 to 644\n",
      "Data columns (total 11 columns):\n",
      "tumor_thickness                 443 non-null int64\n",
      "regularity_of_cell_size         443 non-null int64\n",
      "regularity_of_cell_shape        443 non-null int64\n",
      "cell_stickiness                 443 non-null int64\n",
      "non_cytoplasm_nuclei            443 non-null int64\n",
      "nucleus_texture                 443 non-null int64\n",
      "small_structures_in_nucleoli    443 non-null int64\n",
      "cell_proliferation              443 non-null int64\n",
      "cell_uniformity                 443 non-null int64\n",
      "tumor_type                      443 non-null int64\n",
      "SVM_Classifier                  443 non-null int64\n",
      "dtypes: int64(11)\n",
      "memory usage: 41.5 KB\n"
     ]
    }
   ],
   "source": [
    "df1 =df.drop_duplicates()\n",
    "df1.info()"
   ]
  },
  {
   "cell_type": "markdown",
   "metadata": {},
   "source": [
    "### Ploting the dataframe"
   ]
  },
  {
   "cell_type": "code",
   "execution_count": 6,
   "metadata": {},
   "outputs": [
    {
     "data": {
      "text/plain": [
       "array([[<matplotlib.axes._subplots.AxesSubplot object at 0x000001639F079908>,\n",
       "        <matplotlib.axes._subplots.AxesSubplot object at 0x000001639F783988>,\n",
       "        <matplotlib.axes._subplots.AxesSubplot object at 0x000001639F7BE848>],\n",
       "       [<matplotlib.axes._subplots.AxesSubplot object at 0x000001639F7F76C8>,\n",
       "        <matplotlib.axes._subplots.AxesSubplot object at 0x000001639F802708>,\n",
       "        <matplotlib.axes._subplots.AxesSubplot object at 0x000001639F860F88>],\n",
       "       [<matplotlib.axes._subplots.AxesSubplot object at 0x000001639F89AE48>,\n",
       "        <matplotlib.axes._subplots.AxesSubplot object at 0x000001639F8D1BC8>,\n",
       "        <matplotlib.axes._subplots.AxesSubplot object at 0x000001639F8D1DC8>],\n",
       "       [<matplotlib.axes._subplots.AxesSubplot object at 0x000001639F90DD08>,\n",
       "        <matplotlib.axes._subplots.AxesSubplot object at 0x000001639F97D808>,\n",
       "        <matplotlib.axes._subplots.AxesSubplot object at 0x000001639F9B7688>]],\n",
       "      dtype=object)"
      ]
     },
     "execution_count": 6,
     "metadata": {},
     "output_type": "execute_result"
    },
    {
     "data": {
      "image/png": "[encoded data removed]",
      "text/plain": [
       "<Figure size 1440x1080 with 12 Axes>"
      ]
     },
     "metadata": {
      "needs_background": "light"
     },
     "output_type": "display_data"
    }
   ],
   "source": [
    "df1.hist(figsize=(20,15))"
   ]
  },
  {
   "cell_type": "markdown",
   "metadata": {},
   "source": [
    "### spliting dataframe for training and testing"
   ]
  },
  {
   "cell_type": "code",
   "execution_count": 7,
   "metadata": {},
   "outputs": [],
   "source": [
    "df2 = df1.drop('SVM_Classifier',axis=1)\n",
    "target = df1['SVM_Classifier']\n",
    "x,tx,y,ty = train_test_split(df2,target,test_size=0.3,random_state=0)"
   ]
  },
  {
   "cell_type": "code",
   "execution_count": 8,
   "metadata": {},
   "outputs": [
    {
     "data": {
      "text/plain": [
       "((310, 10), (310,), (133, 10), (133,))"
      ]
     },
     "execution_count": 8,
     "metadata": {},
     "output_type": "execute_result"
    }
   ],
   "source": [
    "x.shape,y.shape,tx.shape,ty.shape"
   ]
  },
  {
   "cell_type": "markdown",
   "metadata": {},
   "source": [
    "### Creating model for detection"
   ]
  },
  {
   "cell_type": "code",
   "execution_count": 9,
   "metadata": {},
   "outputs": [
    {
     "name": "stdout",
     "output_type": "stream",
     "text": [
      "Accuracy: 100.0%\n"
     ]
    }
   ],
   "source": [
    "model = SVC()\n",
    "model.fit(x,y)\n",
    "\n",
    "pred = model.predict(tx)\n",
    "score = round(accuracy_score(pred,ty)*100,2)\n",
    "print(f'Accuracy: {score}%')"
   ]
  },
  {
   "cell_type": "markdown",
   "metadata": {},
   "source": [
    "We got an accuracy of 100.0% with this model. <hr>\n",
    "Finally, let’s print out a confusion matrix to gain insight into the number of false and true negatives and positives."
   ]
  },
  {
   "cell_type": "code",
   "execution_count": 10,
   "metadata": {},
   "outputs": [
    {
     "data": {
      "text/plain": [
       "array([[64,  0],\n",
       "       [ 0, 69]], dtype=int64)"
      ]
     },
     "execution_count": 10,
     "metadata": {},
     "output_type": "execute_result"
    }
   ],
   "source": [
    "cm = confusion_matrix(pred,ty)\n",
    "cm"
   ]
  },
  {
   "cell_type": "code",
   "execution_count": 11,
   "metadata": {},
   "outputs": [
    {
     "data": {
      "text/plain": [
       "Text(33.0, 0.5, 'True')"
      ]
     },
     "execution_count": 11,
     "metadata": {},
     "output_type": "execute_result"
    },
    {
     "data": {
      "image/png": "[encoded data removed]",
      "text/plain": [
       "<Figure size 432x288 with 2 Axes>"
      ]
     },
     "metadata": {
      "needs_background": "light"
     },
     "output_type": "display_data"
    }
   ],
   "source": [
    "sns.heatmap(cm,annot=True,cmap='copper', fmt='d')\n",
    "plt.title(' Confusion matrix')\n",
    "plt.xlabel('Predicted')\n",
    "plt.ylabel('True')"
   ]
  },
  {
   "cell_type": "markdown",
   "metadata": {},
   "source": [
    "So with this model, we have 69 positives, 64 negatives, 0 false positives, and 0 false negatives."
   ]
  },
  {
   "cell_type": "code",
   "execution_count": 12,
   "metadata": {},
   "outputs": [
    {
     "name": "stdout",
     "output_type": "stream",
     "text": [
      "              precision    recall  f1-score   support\n",
      "\n",
      "           0       1.00      1.00      1.00        64\n",
      "           1       1.00      1.00      1.00        69\n",
      "\n",
      "    accuracy                           1.00       133\n",
      "   macro avg       1.00      1.00      1.00       133\n",
      "weighted avg       1.00      1.00      1.00       133\n",
      "\n"
     ]
    }
   ],
   "source": [
    "print(classification_report(pred,ty))"
   ]
  },
  {
   "cell_type": "markdown",
   "metadata": {},
   "source": [
    "#### The performance of our model seems encouraging, with accuracy of 100%, precision of 100% and recall of 100%."
   ]
  }
 ],
 "metadata": {
  "kernelspec": {
   "display_name": "Python 3",
   "language": "python",
   "name": "python3"
  },
  "language_info": {
   "codemirror_mode": {
    "name": "ipython",
    "version": 3
   },
   "file_extension": ".py",
   "mimetype": "text/x-python",
   "name": "python",
   "nbconvert_exporter": "python",
   "pygments_lexer": "ipython3",
   "version": "3.7.4"
  }
 },
 "nbformat": 4,
 "nbformat_minor": 4
}
